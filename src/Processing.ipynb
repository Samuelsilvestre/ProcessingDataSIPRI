{
 "cells": [
  {
   "cell_type": "code",
   "execution_count": 2,
   "id": "f54a1054",
   "metadata": {},
   "outputs": [],
   "source": [
    "import pandas as pd"
   ]
  },
  {
   "cell_type": "markdown",
   "id": "7af3d8e3",
   "metadata": {},
   "source": [
    "### Pre-processando os dados e manipulando os Dataframes\n",
    "\n",
    " ###"
   ]
  },
  {
   "cell_type": "markdown",
   "id": "20341b46",
   "metadata": {},
   "source": [
    "- Caminho do arquivo"
   ]
  },
  {
   "cell_type": "code",
   "execution_count": 5,
   "id": "c5bbbbb8",
   "metadata": {},
   "outputs": [],
   "source": [
    "FILE = './../dataraw/SIPRI-Milex-data-1949-2024_2.xlsx'\n"
   ]
  },
  {
   "cell_type": "markdown",
   "id": "294adbe7",
   "metadata": {},
   "source": [
    "- Buffer para trafegar os dados"
   ]
  },
  {
   "cell_type": "code",
   "execution_count": 36,
   "id": "722396aa",
   "metadata": {},
   "outputs": [],
   "source": [
    "BUFFER = {}"
   ]
  },
  {
   "cell_type": "markdown",
   "id": "0b43ecb7",
   "metadata": {},
   "source": [
    "- Nome das planilhas "
   ]
  },
  {
   "cell_type": "code",
   "execution_count": 6,
   "id": "19f7f206",
   "metadata": {},
   "outputs": [],
   "source": [
    "PLAN = {\n",
    "    'Regional totals': 14,\n",
    "    'Local currency financial years': 8,\n",
    "    'Local currency calendar years': 7,\n",
    "    'Constant (2023) US$': 6,\n",
    "    'Current US$': 6,\n",
    "    'Share of GDP': 6,\n",
    "    'Per capita': 7,\n",
    "    'Share of Govt. spending': 8,\n",
    "}"
   ]
  },
  {
   "cell_type": "markdown",
   "id": "664dc06a",
   "metadata": {},
   "source": [
    "- Extração das planilhas"
   ]
  },
  {
   "cell_type": "code",
   "execution_count": null,
   "id": "42706e75",
   "metadata": {},
   "outputs": [
    {
     "name": "stdout",
     "output_type": "stream",
     "text": [
      "Extraindo a planilha Regional totals\n",
      "Extraindo a planilha Local currency financial years\n",
      "Extraindo a planilha Local currency calendar years\n",
      "Extraindo a planilha Constant (2023) US$\n",
      "Extraindo a planilha Current US$\n",
      "Extraindo a planilha Share of GDP\n",
      "Extraindo a planilha Per capita\n",
      "Extraindo a planilha Share of Govt. spending\n"
     ]
    }
   ],
   "source": [
    "for k,v in PLAN.items():\n",
    "    print(f'Extraindo a planilha {k}')\n",
    "\n",
    "    try:\n",
    "        data = pd.read_excel(FILE, sheet_name=k, header=v - 1)\n",
    "        data = data[~data.astype(str).apply(lambda col : col.str.fullmatch(r'[xX]+')).any(axis=1)]\n",
    "        data.dropna(how='all', inplace=True)\n",
    "        BUFFER[k] = data.copy()\n",
    "\n",
    "    except Exception as e:\n",
    "        print(f'Falha no tratamento na planilha {k}')\n",
    "        continue\n",
    "\n",
    "\n"
   ]
  },
  {
   "cell_type": "markdown",
   "id": "69d8820c",
   "metadata": {},
   "source": [
    "### Detalhes dos dados ###"
   ]
  },
  {
   "cell_type": "code",
   "execution_count": 55,
   "id": "5961620e",
   "metadata": {},
   "outputs": [
    {
     "name": "stdout",
     "output_type": "stream",
     "text": [
      "******************************\n",
      "Base de dados: Regional totals\n",
      "Possui 19 linhas e 41 colunas\n",
      "Total de valores nulos 34\n",
      "******************************\n",
      "Base de dados: Local currency financial years\n",
      "Possui 186 linhas e 80 colunas\n",
      "Total de valores nulos 1574\n",
      "******************************\n",
      "Base de dados: Local currency calendar years\n",
      "Possui 186 linhas e 79 colunas\n",
      "Total de valores nulos 1441\n",
      "******************************\n",
      "Base de dados: Constant (2023) US$\n",
      "Possui 186 linhas e 79 colunas\n",
      "Total de valores nulos 1609\n",
      "******************************\n",
      "Base de dados: Current US$\n",
      "Possui 186 linhas e 78 colunas\n",
      "Total de valores nulos 1423\n",
      "******************************\n",
      "Base de dados: Share of GDP\n",
      "Possui 186 linhas e 78 colunas\n",
      "Total de valores nulos 1423\n",
      "******************************\n",
      "Base de dados: Per capita\n",
      "Possui 186 linhas e 39 colunas\n",
      "Total de valores nulos 721\n",
      "******************************\n",
      "Base de dados: Share of Govt. spending\n",
      "Possui 186 linhas e 40 colunas\n",
      "Total de valores nulos 907\n"
     ]
    }
   ],
   "source": [
    "for data_name,data in BUFFER.items():\n",
    "    print(f'***'*10)\n",
    "    print(f'Base de dados: {data_name}')\n",
    "    print(f'Possui {data.shape[0]} linhas e {data.shape[1]} colunas')\n",
    "    print(f'Total de valores nulos {sum(data.isna().sum().values)}')\n"
   ]
  },
  {
   "cell_type": "markdown",
   "id": "04cdaf37",
   "metadata": {},
   "source": [
    "### Transformando colunas em linhas ###"
   ]
  },
  {
   "cell_type": "markdown",
   "id": "de93d2d3",
   "metadata": {},
   "source": [
    "- Aplicando o melt"
   ]
  },
  {
   "cell_type": "code",
   "execution_count": 79,
   "id": "83d8cd3c",
   "metadata": {},
   "outputs": [
    {
     "name": "stdout",
     "output_type": "stream",
     "text": [
      "******************************\n",
      "Derretendo a base Regional totals\n",
      "Salvando o arquivo Regional totals\n",
      "******************************\n",
      "Derretendo a base Local currency financial years\n",
      "Salvando o arquivo Local currency financial years\n",
      "******************************\n",
      "Derretendo a base Local currency calendar years\n",
      "Salvando o arquivo Local currency calendar years\n",
      "******************************\n",
      "Derretendo a base Constant (2023) US$\n",
      "Salvando o arquivo Constant (2023) US$\n",
      "******************************\n",
      "Derretendo a base Current US$\n",
      "Salvando o arquivo Current US$\n",
      "******************************\n",
      "Derretendo a base Share of GDP\n",
      "Salvando o arquivo Share of GDP\n",
      "******************************\n",
      "Derretendo a base Per capita\n",
      "Salvando o arquivo Per capita\n",
      "******************************\n",
      "Derretendo a base Share of Govt. spending\n",
      "Salvando o arquivo Share of Govt. spending\n"
     ]
    }
   ],
   "source": [
    "for data_name,data in BUFFER.items():\n",
    "    print('***' * 10)\n",
    "    print(f'Derretendo a base {data_name}')\n",
    "\n",
    "    try:\n",
    "        columns_year = [col for col in data.columns if str(col).isdigit() and len(str(col)) == 4]\n",
    "        columns_id = [col for col in data.columns if col not in column_year]\n",
    "        \n",
    "        try:\n",
    "            df = data.melt(\n",
    "                id_vars=columns_id,\n",
    "                value_vars=columns_year,\n",
    "                var_name='year',\n",
    "                value_name='value'\n",
    "            )\n",
    "\n",
    "            print(f'Salvando o arquivo {data_name}')\n",
    "            df.to_csv(f'./../dataready/{data_name}.csv', index=False)\n",
    "\n",
    "        except Exception as e:\n",
    "            print(f'Falha na segunda etapa')\n",
    "            continue\n",
    "\n",
    "    except Exception as e:\n",
    "        print(f'Falha na primeira etapa')\n",
    "        continue\n",
    "\n"
   ]
  }
 ],
 "metadata": {
  "kernelspec": {
   "display_name": "venv",
   "language": "python",
   "name": "python3"
  },
  "language_info": {
   "codemirror_mode": {
    "name": "ipython",
    "version": 3
   },
   "file_extension": ".py",
   "mimetype": "text/x-python",
   "name": "python",
   "nbconvert_exporter": "python",
   "pygments_lexer": "ipython3",
   "version": "3.13.3"
  }
 },
 "nbformat": 4,
 "nbformat_minor": 5
}
